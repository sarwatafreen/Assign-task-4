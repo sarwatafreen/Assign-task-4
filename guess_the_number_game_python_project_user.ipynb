{
  "nbformat": 4,
  "nbformat_minor": 0,
  "metadata": {
    "colab": {
      "provenance": [],
      "authorship_tag": "ABX9TyOAoq76iDSWh9fd/ebM/1yD",
      "include_colab_link": true
    },
    "kernelspec": {
      "name": "python3",
      "display_name": "Python 3"
    },
    "language_info": {
      "name": "python"
    }
  },
  "cells": [
    {
      "cell_type": "markdown",
      "metadata": {
        "id": "view-in-github",
        "colab_type": "text"
      },
      "source": [
        "<a href=\"https://colab.research.google.com/github/sarwatafreen/Assign-task-4/blob/main/guess_the_number_game_python_project_user.ipynb\" target=\"_parent\"><img src=\"https://colab.research.google.com/assets/colab-badge.svg\" alt=\"Open In Colab\"/></a>"
      ]
    },
    {
      "cell_type": "code",
      "execution_count": null,
      "metadata": {
        "id": "2kaHxOCNSkk5",
        "colab": {
          "base_uri": "https://localhost:8080/"
        },
        "outputId": "f0d84c9d-a148-4310-ba8f-e69cc4503da6"
      },
      "outputs": [
        {
          "output_type": "stream",
          "name": "stdout",
          "text": [
            "computer ne ek secret number socha hain!🧠 ab usay guess krna hain computer ko!🔢\n",
            "ap guess kro (1-30)12\n",
            "chota socha!🤨\n",
            "ap guess kro (1-30)24\n",
            "chota socha!🤨\n",
            "ap guess kro (1-30)30\n",
            "chota socha!🤨\n",
            "ap guess kro (1-30)34\n",
            "chota socha!🤨\n"
          ]
        }
      ],
      "source": [
        "import random\n",
        "print(\"computer ne ek secret number socha hain!🧠 ab usay guess krna hain computer ko!🔢\")\n",
        "secret_number = random.randint(1,30)\n",
        "try:\n",
        " while True:\n",
        "  user_input =int(input(\"ap guess kro (1-30)\"))\n",
        "  if user_input == secret_number:\n",
        "    print(\"yahoo!🎉Aap ni sahe number guess kiya✅\")\n",
        "    break\n",
        "  elif user_input < secret_number:\n",
        "      print(\"Bara socha!↗\")\n",
        "  elif user_input > secret_number:\n",
        "        print(\"chota socha!🤨\")\n",
        "except ValueError:\n",
        "  print(\"Invalid Input\")"
      ]
    }
  ]
}