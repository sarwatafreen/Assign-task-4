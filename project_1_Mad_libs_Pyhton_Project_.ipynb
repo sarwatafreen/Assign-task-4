{
  "nbformat": 4,
  "nbformat_minor": 0,
  "metadata": {
    "colab": {
      "provenance": [],
      "authorship_tag": "ABX9TyPBAkBrFYQT9/s12ASpjHek",
      "include_colab_link": true
    },
    "kernelspec": {
      "name": "python3",
      "display_name": "Python 3"
    },
    "language_info": {
      "name": "python"
    }
  },
  "cells": [
    {
      "cell_type": "markdown",
      "metadata": {
        "id": "view-in-github",
        "colab_type": "text"
      },
      "source": [
        "<a href=\"https://colab.research.google.com/github/sarwatafreen/Assign-task-4/blob/main/project_1_Mad_libs_Pyhton_Project_.ipynb\" target=\"_parent\"><img src=\"https://colab.research.google.com/assets/colab-badge.svg\" alt=\"Open In Colab\"/></a>"
      ]
    },
    {
      "cell_type": "code",
      "execution_count": null,
      "metadata": {
        "id": "bGV92_F7x2kt"
      },
      "outputs": [],
      "source": [
        "def Madlibs():\n",
        " name = str(input (\"Enter you name..\"))\n",
        " city = str(input (\"Enter your City name..\"))\n",
        " verb = str(input (\"Enter your Verb..\"))\n",
        " animal = str(input(\"Plz Entre you animal name...\"))\n",
        " adjective = str(input(\"Entre adjective..\"))\n",
        "story = f\"Ek din,{name} {city} k {verb} gaya. Wahan hum ni ek acha sa {animal} dekha jo {adjective} tha. ya dekha kar, {name}  bhot he hairan hua.\"\n",
        "print(story)\n",
        "Madlibs()"
      ]
    },
    {
      "cell_type": "code",
      "source": [
        "# def calculator(first_num,second_num,operation):\n",
        "#   if operation == \"+\":\n",
        "#     print(first_num + second_num)\n",
        "\n",
        "#   elif operation == \"-\":\n",
        "#     print(first_num - second_num)\n",
        "#   elif operation == \"/\":\n",
        "#     print(first_num / second_num)\n",
        "#   elif operation == \"*\":\n",
        "#     print(first_num * second_num)\n",
        "\n",
        "#   first = int(input(\"Enter a first number\"))\n",
        "#   second = int(input(\"Enter a second number\"))\n",
        "#   operation= input(\"Enter a operater\")\n",
        "#   print(calculator)\n",
        "#   calculator(first,second,operation)\n"
      ],
      "metadata": {
        "id": "D6wDUw0L6-hU"
      },
      "execution_count": 2,
      "outputs": []
    },
    {
      "cell_type": "code",
      "source": [
        "def calculator(first_num,second_num,operation):\n",
        "  if operation == \"+\":\n",
        "    print(first_num + second_num)\n",
        "    return first_num + second_num\n",
        "  elif operation == \"-\":\n",
        "    print(first_num - second_num)\n",
        "    return first_num - second_num\n",
        "  elif operation == \"/\":\n",
        "    return \"Error:Division by zero is not allowed!\"\n",
        "    print(first_num / second_num)\n",
        "    return first_num / second_num\n",
        "  elif operation == \"*\":\n",
        "    print(first_num * second_num)\n",
        "    return first_num * second_num\n",
        "  else: \"invalid operation!, please use +,-,/,*\"\n",
        "\n",
        "  first = int(input(\"Enter a first number\"))\n",
        "  second = int(input(\"Enter a second number\"))\n",
        "  operation= input(\"Enter a operater(+, -, *, /): \")\n",
        "  result= calculator(first,second,operation)\n",
        "  print(\"Rseult:\",result)"
      ],
      "metadata": {
        "id": "YMza5LFhNtG-"
      },
      "execution_count": 11,
      "outputs": []
    },
    {
      "cell_type": "code",
      "source": [],
      "metadata": {
        "id": "KZ2kDPSuPQpR"
      },
      "execution_count": null,
      "outputs": []
    }
  ]
}