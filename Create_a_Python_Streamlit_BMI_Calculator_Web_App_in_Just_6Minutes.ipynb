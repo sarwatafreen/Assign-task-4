{
  "nbformat": 4,
  "nbformat_minor": 0,
  "metadata": {
    "colab": {
      "provenance": [],
      "authorship_tag": "ABX9TyOkqiJ2sRKyK1lNmhJ/30oW",
      "include_colab_link": true
    },
    "kernelspec": {
      "name": "python3",
      "display_name": "Python 3"
    },
    "language_info": {
      "name": "python"
    }
  },
  "cells": [
    {
      "cell_type": "markdown",
      "metadata": {
        "id": "view-in-github",
        "colab_type": "text"
      },
      "source": [
        "<a href=\"https://colab.research.google.com/github/sarwatafreen/Assign-task-4/blob/main/Create_a_Python_Streamlit_BMI_Calculator_Web_App_in_Just_6Minutes.ipynb\" target=\"_parent\"><img src=\"https://colab.research.google.com/assets/colab-badge.svg\" alt=\"Open In Colab\"/></a>"
      ]
    },
    {
      "cell_type": "code",
      "execution_count": null,
      "metadata": {
        "id": "jo4fkNdx3K8K"
      },
      "outputs": [],
      "source": [
        "import streamlit as st\n",
        "import time\n",
        "\n",
        "# Set page configuration\n",
        "st.set_page_config(page_title=\"BMI Calculator\", page_icon=\"👶🏻\", layout=\"centered\")\n",
        "\n",
        "# Title\n",
        "st.title(\"Project 9: BMI Calculator in Python\")\n",
        "\n",
        "# Instructions\n",
        "st.markdown(\"\"\"\n",
        "## My Body Mass Index (BMI) Calculator\n",
        "Enter your **weight and height** below to calculate your BMI.\n",
        "\"\"\")\n",
        "\n",
        "# Creating two columns for input\n",
        "col1, col2 = st.columns(2)\n",
        "\n",
        "with col1:\n",
        "    weight = st.number_input(\"Weight (kg):\", min_value=1.0, format=\"%.2f\")\n",
        "\n",
        "with col2:\n",
        "    height = st.number_input(\"Height (m):\", min_value=0.5, format=\"%.2f\")  # Minimum height set to avoid division errors\n",
        "\n",
        "# BMI Calculation\n",
        "if height > 0 and weight > 0:\n",
        "    bmi = weight / (height ** 2)\n",
        "\n",
        "    # Display the BMI result\n",
        "    st.subheader(\"My BMI: \")\n",
        "    st.markdown(f\"**{bmi:.2f}**\", unsafe_allow_html=True)\n",
        "\n",
        "    # BMI Categories\n",
        "    if bmi < 18.5:\n",
        "        st.error(\"Underweight\")\n",
        "    elif 18.5 <= bmi < 24.9:\n",
        "        st.success(\"Normal Weight\")\n",
        "    elif 25 <= bmi < 29.9:\n",
        "        st.warning(\"Overweight\")\n",
        "    else:\n",
        "        st.error(\"Obesity 🎓\")\n",
        "else:\n",
        "    st.info(\"Please enter a valid weight and height.\")\n",
        "\n",
        "\n",
        "\n",
        "\n",
        "\n",
        "# import streamlit as st\n",
        "# import time\n",
        "# st.set_page_config(page_title=\"BMI Calculator\",page_icon=\"👶🏻\",layout=\"centered\")\n",
        "# st.title(\"Project 9: BMI Calculator In Python\")\n",
        "# st.markdown(\"\"\"\n",
        "# ## My Body mass index (bmi) calculate Below yours **weight and height** enter your number\"\"\")\n",
        "# col1,col2 = st.columns(2)\n",
        "# with col1:\n",
        "#   weight = st.number_input(\"weight (kg):\", min_value=1.0, formate=\"%.2f\")\n",
        "#   with col2:\n",
        "#     height = st.number_input(\"Height(m):\", min_value=1.0, format=\"%.2f\")\n",
        "#     if height > 0 and weight >0:\n",
        "#       bmi = weight / (height ** 2)\n",
        "#       st.subheader(\"my BMI: \")\n",
        "#       st.markdown(f\"{bmi:.2f}\",unsafe_allow_html=True)\n",
        "#       if bmi <18.5:\n",
        "#         st.error(\"underweight\")\n",
        "#         elif 18.5 <= bmi < 24.9:\n",
        "#           st.success(\"normal weight\")\n",
        "#           elif 25 <= bmi < 29.9:\n",
        "#             st.warning(\"overweight\")\n",
        "#             else:\n",
        "#               st.error(\"obsity 🎓\")\n",
        "#               else:\n",
        "#                 st.info(Please entre a valid weight and height)"
      ]
    }
  ]
}