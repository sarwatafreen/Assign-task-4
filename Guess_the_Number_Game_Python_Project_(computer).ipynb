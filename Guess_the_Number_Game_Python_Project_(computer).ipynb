{
  "nbformat": 4,
  "nbformat_minor": 0,
  "metadata": {
    "colab": {
      "provenance": [],
      "authorship_tag": "ABX9TyOnHrYxjZbLCvBEiVd6ftyI",
      "include_colab_link": true
    },
    "kernelspec": {
      "name": "python3",
      "display_name": "Python 3"
    },
    "language_info": {
      "name": "python"
    }
  },
  "cells": [
    {
      "cell_type": "markdown",
      "metadata": {
        "id": "view-in-github",
        "colab_type": "text"
      },
      "source": [
        "<a href=\"https://colab.research.google.com/github/sarwatafreen/Assign-task-4/blob/main/Guess_the_Number_Game_Python_Project_(computer).ipynb\" target=\"_parent\"><img src=\"https://colab.research.google.com/assets/colab-badge.svg\" alt=\"Open In Colab\"/></a>"
      ]
    },
    {
      "cell_type": "code",
      "execution_count": null,
      "metadata": {
        "colab": {
          "base_uri": "https://localhost:8080/"
        },
        "id": "QbzthICrUGcK",
        "outputId": "d17388e0-ad4e-4e49-bead-1dca01373f68"
      },
      "outputs": [
        {
          "output_type": "stream",
          "name": "stdout",
          "text": [
            "0\n",
            "1\n",
            "2\n",
            "3\n",
            "4\n",
            "5\n",
            "6\n",
            "7\n",
            "8\n",
            "9\n",
            "10\n",
            "11\n",
            "12\n",
            "13\n",
            "14\n",
            "15\n",
            "16\n",
            "17\n",
            "18\n",
            "19\n"
          ]
        }
      ],
      "source": [
        "# # numbers = [\"1,2,3,4,5,6,7,\"]\n",
        "# for i in range(0,20,1):\n",
        "#  print(i)"
      ]
    },
    {
      "cell_type": "code",
      "source": [
        "# import time\n",
        "# for i in range(10,0,-1):\n",
        "#   time.sleep(1)\n",
        "#   print(i)"
      ],
      "metadata": {
        "colab": {
          "base_uri": "https://localhost:8080/"
        },
        "id": "p9rbDiadWNVZ",
        "outputId": "a5af9517-ada8-422d-bca3-64e2bc3ba8e0"
      },
      "execution_count": null,
      "outputs": [
        {
          "output_type": "stream",
          "name": "stdout",
          "text": [
            "10\n",
            "9\n",
            "8\n",
            "7\n",
            "6\n",
            "5\n",
            "4\n",
            "3\n",
            "2\n",
            "1\n"
          ]
        }
      ]
    },
    {
      "cell_type": "code",
      "source": [
        "import random\n",
        "print(\"soocha ek number hum ni 1 to 20 thk!🤣\")\n",
        "user_input = int(input (\"Apna secret number likha (computer guess kro):😂😁\"))\n",
        "\n",
        "computer_num =random.randint(1,20)\n",
        "print(f\"computer ka pehla guess hai:{computer_num}\")\n",
        "\n",
        "while True:\n",
        "  feedback =input(\"kya yeh guess sahi hain? (bara/chhota/sahi):\")\n",
        "\n",
        "if feedback == \"sahi\":\n",
        "  print(\"Yay!😎 computer ne sahi guess kar liya!😲\")\n",
        "  \"break\"  # Ye loop ko tor dega\n",
        "\n",
        "elif feedback == \"choota\":\n",
        "    print(\"too low..\")\n",
        "elif feedback == \"bara\":\n",
        "      print (\"too high...\")\n",
        "else:\n",
        "    print(\"Galat input! sirf'bara','choota' ya 'sahi' likho..\")\n",
        "    \"continue\"\n",
        "    computer_num = random.randint(1,20)\n",
        "    print(f\"computer ka naya guess hai:{computer_num}\")"
      ],
      "metadata": {
        "colab": {
          "base_uri": "https://localhost:8080/"
        },
        "id": "nO66UIfmZSYK",
        "outputId": "33e3e72d-1ce9-42bf-969f-043215f65035"
      },
      "execution_count": null,
      "outputs": [
        {
          "name": "stdout",
          "output_type": "stream",
          "text": [
            "soocha ek number hum ni 1 to 20 thk!🤣\n",
            "Apna secret number likha (computer guess kro):😂😁4\n",
            "computer ka pehla guess hai:3\n",
            "kya yeh guess sahi hain? (bara/chhota/sahi):sahi\n",
            "kya yeh guess sahi hain? (bara/chhota/sahi):choota\n",
            "kya yeh guess sahi hain? (bara/chhota/sahi):bara\n"
          ]
        }
      ]
    }
  ]
}