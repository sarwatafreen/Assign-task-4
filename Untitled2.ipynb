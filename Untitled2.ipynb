{
  "nbformat": 4,
  "nbformat_minor": 0,
  "metadata": {
    "colab": {
      "provenance": [],
      "authorship_tag": "ABX9TyO4HlJKbOSUCODNAQOTfMzB",
      "include_colab_link": true
    },
    "kernelspec": {
      "name": "python3",
      "display_name": "Python 3"
    },
    "language_info": {
      "name": "python"
    }
  },
  "cells": [
    {
      "cell_type": "markdown",
      "metadata": {
        "id": "view-in-github",
        "colab_type": "text"
      },
      "source": [
        "<a href=\"https://colab.research.google.com/github/sarwatafreen/Assign-task-4/blob/main/Untitled2.ipynb\" target=\"_parent\"><img src=\"https://colab.research.google.com/assets/colab-badge.svg\" alt=\"Open In Colab\"/></a>"
      ]
    },
    {
      "cell_type": "code",
      "execution_count": 4,
      "metadata": {
        "colab": {
          "base_uri": "https://localhost:8080/"
        },
        "id": "j-eQHagMo_rB",
        "outputId": "d220a5eb-225c-4a9f-c837-818f9b538a93"
      },
      "outputs": [
        {
          "output_type": "stream",
          "name": "stdout",
          "text": [
            "Enter time in seconds for countdown: 2\n",
            "00:00 \n",
            "Time's UP!\n"
          ]
        }
      ],
      "source": [
        "import time\n",
        "\n",
        "def countdown_timer(seconds):\n",
        "    while seconds > 0:  # Added missing colon\n",
        "        mins, secs = divmod(seconds, 60)  # Fixed variable name\n",
        "        time_format = '{:02d}:{:02d}'.format(mins, secs)\n",
        "        print(time_format, end='\\r')\n",
        "        time.sleep(1)\n",
        "        seconds -= 1\n",
        "\n",
        "    print(\"00:00 \\nTime's UP!\")  # Moved outside the loop\n",
        "\n",
        "# Get user input and start countdown\n",
        "total_seconds = int(input(\"Enter time in seconds for countdown: \"))  # Fixed spelling\n",
        "countdown_timer(total_seconds)  # Moved function call outside\n",
        "\n",
        "\n"
      ]
    }
  ]
}