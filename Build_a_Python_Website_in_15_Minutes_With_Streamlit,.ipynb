{
  "nbformat": 4,
  "nbformat_minor": 0,
  "metadata": {
    "colab": {
      "provenance": [],
      "authorship_tag": "ABX9TyPEqhLs6Hv2enKHcRp++0Dk",
      "include_colab_link": true
    },
    "kernelspec": {
      "name": "python3",
      "display_name": "Python 3"
    },
    "language_info": {
      "name": "python"
    }
  },
  "cells": [
    {
      "cell_type": "markdown",
      "metadata": {
        "id": "view-in-github",
        "colab_type": "text"
      },
      "source": [
        "<a href=\"https://colab.research.google.com/github/sarwatafreen/Assign-task-4/blob/main/Build_a_Python_Website_in_15_Minutes_With_Streamlit%2C.ipynb\" target=\"_parent\"><img src=\"https://colab.research.google.com/assets/colab-badge.svg\" alt=\"Open In Colab\"/></a>"
      ]
    },
    {
      "cell_type": "code",
      "execution_count": null,
      "metadata": {
        "id": "_Lv5Bo-G2oMX"
      },
      "outputs": [],
      "source": [
        "import streamlit as st\n",
        "import pandas as pd\n",
        "import random\n",
        "\n",
        "st.set_page_config(page_title=\"Teacher Data Generator\", layout=\"wide\")\n",
        "st.title(\"Teacher CSV File Generator\")\n",
        "\n",
        "names = [\"Ali\", \"Alisha\", \"Mr. Anderson\", \"Mr. Bennett\", \"Mr. Carter\", \"Mr. Dawson\",\n",
        "         \"Ms. Adams\", \"Ms. Brooks\", \"Ms. Clarke\", \"Ms. Dawson\", \"Ms. Ellis\", \"Ms. Simmons\"]\n",
        "\n",
        "teachers = []\n",
        "for i in range(1, 12):\n",
        "    teacher = {\n",
        "        \"ID\": i,\n",
        "        \"Name\": random.choice(names),\n",
        "        \"Age\": random.randint(25, 30),\n",
        "        \"Grade\": random.choice([\"A\", \"B\", \"C\", \"D\"]),\n",
        "        \"Marks\": random.randint(50, 100)\n",
        "    }\n",
        "    teachers.append(teacher)\n",
        "\n",
        "df = pd.DataFrame(teachers)  # DataFrame banaya\n",
        "\n",
        "st.subheader(\"Generated Teachers Data\")\n",
        "st.dataframe(df)  # Table show karne ke liye\n",
        "\n",
        "csv_file = df.to_csv(index=False).encode('utf-8')  # CSV File banaya\n",
        "st.download_button(\"Download CSV File\", csv_file, \"teachers.csv\", \"text/csv\")  # Download Button\n",
        "\n",
        "st.success(\"Teacher Record Generated Successfully!\")\n",
        "\n",
        "\n"
      ]
    }
  ]
}